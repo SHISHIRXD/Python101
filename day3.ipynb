{
 "cells": [
  {
   "cell_type": "code",
   "execution_count": null,
   "id": "38aed443",
   "metadata": {},
   "outputs": [],
   "source": [
    "num = 7\n",
    "guss = int(input())\n",
    "\n",
    "if guss == num:\n",
    "    print(\"You got it\")\n",
    "else:\n",
    "    print(\"You missed it\")\n"
   ]
  },
  {
   "cell_type": "code",
   "execution_count": null,
   "id": "265b8573",
   "metadata": {},
   "outputs": [],
   "source": []
  }
 ],
 "metadata": {
  "kernelspec": {
   "display_name": "base",
   "language": "python",
   "name": "python3"
  },
  "language_info": {
   "codemirror_mode": {
    "name": "ipython",
    "version": 3
   },
   "file_extension": ".py",
   "mimetype": "text/x-python",
   "name": "python",
   "nbconvert_exporter": "python",
   "pygments_lexer": "ipython3",
   "version": "3.12.7"
  }
 },
 "nbformat": 4,
 "nbformat_minor": 5
}
