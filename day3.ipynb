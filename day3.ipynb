{
 "cells": [
  {
   "cell_type": "code",
   "execution_count": 7,
   "id": "38aed443",
   "metadata": {},
   "outputs": [
    {
     "name": "stdout",
     "output_type": "stream",
     "text": [
      "100 90 80 70 60 50 40 30 20 10 "
     ]
    }
   ],
   "source": [
    "for i in range(100,1,-5):\n",
    "    if(i%2==0):\n",
    "    \n",
    "     print(i,end=\" \")\n"
   ]
  },
  {
   "cell_type": "code",
   "execution_count": 19,
   "id": "265b8573",
   "metadata": {},
   "outputs": [
    {
     "name": "stdout",
     "output_type": "stream",
     "text": [
      "sisir ekta kuttar bacca\n",
      "Number of vowels: 8\n"
     ]
    }
   ],
   "source": [
    "name = (input(\"Enter a name: \"))\n",
    "print(name)\n",
    "vowels = \"aeiouAEIOU\"\n",
    "\n",
    "vowel_count = 0  \n",
    "\n",
    "for vowel in vowels:\n",
    "    vowel_count += name.count(vowel)\n",
    "\n",
    "print(\"Number of vowels:\", vowel_count)\n"
   ]
  },
  {
   "cell_type": "code",
   "execution_count": null,
   "id": "24459593",
   "metadata": {},
   "outputs": [],
   "source": [
    "name=input(\"input your name\").lower()\n",
    "cons=0\n",
    "vowel=0\n",
    "for i in name:\n",
    "    if(i==\" \"):\n",
    "        continue\n",
    "    elif(i=='a' or i=='')"
   ]
  },
  {
   "cell_type": "code",
   "execution_count": null,
   "id": "7c043011",
   "metadata": {},
   "outputs": [],
   "source": []
  }
 ],
 "metadata": {
  "kernelspec": {
   "display_name": "base",
   "language": "python",
   "name": "python3"
  },
  "language_info": {
   "codemirror_mode": {
    "name": "ipython",
    "version": 3
   },
   "file_extension": ".py",
   "mimetype": "text/x-python",
   "name": "python",
   "nbconvert_exporter": "python",
   "pygments_lexer": "ipython3",
   "version": "3.12.7"
  }
 },
 "nbformat": 4,
 "nbformat_minor": 5
}
