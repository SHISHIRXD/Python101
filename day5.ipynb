{
 "cells": [
  {
   "cell_type": "code",
   "execution_count": 7,
   "id": "4e34c86b",
   "metadata": {},
   "outputs": [
    {
     "name": "stdout",
     "output_type": "stream",
     "text": [
      "[0, 1, 2, 3, 4, 5, 6, 7, 8, 9]\n",
      "[6, 8, 10, 12, 14]\n"
     ]
    }
   ],
   "source": [
    "##list comprehension\n",
    "lst=[x for x in range(10)]\n",
    "print(lst)\n",
    "lst2=[x+5 for x in range(10) if  x%2==1 ]\n",
    "print(lst2)\n",
    "    "
   ]
  },
  {
   "cell_type": "code",
   "execution_count": 13,
   "id": "a68ab71b",
   "metadata": {},
   "outputs": [
    {
     "name": "stdout",
     "output_type": "stream",
     "text": [
      "[6, 8, 10, 12, 14]\n"
     ]
    }
   ],
   "source": [
    "lst3=[x+5 for x in range(1,11,2)]\n",
    "print(lst3)"
   ]
  },
  {
   "cell_type": "code",
   "execution_count": 14,
   "id": "117f8a0b",
   "metadata": {},
   "outputs": [
    {
     "name": "stdout",
     "output_type": "stream",
     "text": [
      "[6, 8, 10, 12, 14]\n"
     ]
    }
   ],
   "source": [
    "lst3=[x+5 for x in range(1,11) if x%2==1]\n",
    "print(lst3)"
   ]
  },
  {
   "cell_type": "code",
   "execution_count": null,
   "id": "75962936",
   "metadata": {},
   "outputs": [
    {
     "name": "stdout",
     "output_type": "stream",
     "text": [
      "[50, 100, 'no power up', 'no power up', 200, 0, 150]\n"
     ]
    }
   ],
   "source": [
    "levels=[50,100,0,200,0,150]\n",
    "[]\n",
    "levels.remove(0)\n",
    "\n",
    "levels.insert(2,\"no power up\")\n",
    "levels.insert(2,\"no power up\")\n",
    "\n",
    "print(levels)"
   ]
  },
  {
   "cell_type": "code",
   "execution_count": null,
   "id": "1226c215",
   "metadata": {},
   "outputs": [],
   "source": [
    "levels = [50,100,0,200,0,150]\n",
    "levels = [x if x!=0 else \"no power up\" for x in levels]\n",
    "\n",
    "print(levels)"
   ]
  }
 ],
 "metadata": {
  "kernelspec": {
   "display_name": "base",
   "language": "python",
   "name": "python3"
  },
  "language_info": {
   "codemirror_mode": {
    "name": "ipython",
    "version": 3
   },
   "file_extension": ".py",
   "mimetype": "text/x-python",
   "name": "python",
   "nbconvert_exporter": "python",
   "pygments_lexer": "ipython3",
   "version": "3.12.7"
  }
 },
 "nbformat": 4,
 "nbformat_minor": 5
}
