{
 "cells": [
  {
   "cell_type": "markdown",
   "id": "fcddde27",
   "metadata": {},
   "source": [
    "##Session 2\n",
    "## Table of contents\n",
    "\n",
    "* [Optional arguments to the print function](#Optional_arguments_to_print)\n",
    "* [Operators and Math formulas](#opt_math_formulas)\n",
    "* [Python Modules](#python_modules)\n",
    "* [Conditional Statements](#con_stmnt)\n",
    "* [Loops](#loops)\n",
    "* [Lists](#lists)\n",
    "* [Tuples](#tuples)\n",
    "* [Sets](#sets)"
   ]
  },
  {
   "cell_type": "code",
   "execution_count": 4,
   "id": "337d092e",
   "metadata": {},
   "outputs": [
    {
     "name": "stdout",
     "output_type": "stream",
     "text": [
      "12345\n",
      "1/2/3/4/5\n",
      "1 2 3 4 5\n",
      "\n",
      "\n"
     ]
    }
   ],
   "source": [
    "print(1, 2, 3, 4, 5, sep='') # prints 12345\n",
    "print(1, 2, 3, 4, 5, sep='/') # prints 1/2/3/4/5\n",
    "print(1, 2, 3, 4, 5, end='\\n\\n\\n')"
   ]
  },
  {
   "cell_type": "code",
   "execution_count": null,
   "id": "fff9fc5e",
   "metadata": {},
   "outputs": [],
   "source": [
    "### Basic Function Structure\n",
    "\n",
    "###def function (parameters)\n",
    "#function body \n",
    "#code to be executed"
   ]
  },
  {
   "cell_type": "code",
   "execution_count": 6,
   "id": "adc445f9",
   "metadata": {},
   "outputs": [
    {
     "name": "stdout",
     "output_type": "stream",
     "text": [
      "Hello, Shishirrr\n"
     ]
    }
   ],
   "source": [
    "def name_input():\n",
    "    name = input(\"Enter your name: \")\n",
    "    print(f\"Hello, {name}\")\n",
    "    \n",
    "name_input()    "
   ]
  },
  {
   "cell_type": "code",
   "execution_count": null,
   "id": "d35c220c",
   "metadata": {},
   "outputs": [],
   "source": []
  }
 ],
 "metadata": {
  "kernelspec": {
   "display_name": ".venv",
   "language": "python",
   "name": "python3"
  },
  "language_info": {
   "codemirror_mode": {
    "name": "ipython",
    "version": 3
   },
   "file_extension": ".py",
   "mimetype": "text/x-python",
   "name": "python",
   "nbconvert_exporter": "python",
   "pygments_lexer": "ipython3",
   "version": "3.13.3"
  }
 },
 "nbformat": 4,
 "nbformat_minor": 5
}
